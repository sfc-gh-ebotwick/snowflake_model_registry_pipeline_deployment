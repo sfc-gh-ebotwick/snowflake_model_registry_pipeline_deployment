{
 "cells": [
  {
   "cell_type": "code",
   "execution_count": 4,
   "metadata": {},
   "outputs": [],
   "source": [
    "import snowflake\n",
    "from snowflake.snowpark.session import Session\n",
    "import os\n",
    "import pandas as pd\n",
    "import numpy as np\n",
    "import xgboost as xgb\n",
    "import toml\n",
    "import json\n",
    "\n",
    "from sklearn.metrics import mean_squared_error, r2_score\n",
    "from sklearn.model_selection import train_test_split\n",
    "\n",
    "import snowflake\n",
    "from snowflake.ml.registry import Registry\n",
    "from snowflake.ml._internal.utils import identifier\n",
    "from snowflake.ml.model import model_signature\n",
    "import snowflake.snowpark.types as T\n",
    "\n",
    "\n"
   ]
  },
  {
   "cell_type": "code",
   "execution_count": 5,
   "metadata": {},
   "outputs": [],
   "source": [
    "config = toml.load('/Users/ebotwick/library/Application Support/snowflake/config.toml').get('connections').get('ebotwick_default')\n",
    "\n",
    "\n",
    "session = Session.builder.configs(config).create()"
   ]
  },
  {
   "cell_type": "code",
   "execution_count": 6,
   "metadata": {},
   "outputs": [],
   "source": [
    "session.use_database(\"ML_HOL_DB\")\n",
    "session.use_schema(\"ML_HOL_SCHEMA\")\n",
    "session.use_role(\"TEMP_HOL_USER\")"
   ]
  },
  {
   "cell_type": "code",
   "execution_count": 7,
   "metadata": {},
   "outputs": [
    {
     "name": "stdout",
     "output_type": "stream",
     "text": [
      "-------------------------------------------------------------------------------------------------------------------------------------------------------------------------------------------------------------------------------------------------------------------------------------------------------------------------------------------------------------------------------------------------------------------------------------------------------------------------------\n",
      "|\"created_on\"                      |\"name\"               |\"database_name\"  |\"schema_name\"  |\"kind\"  |\"comment\"  |\"cluster_by\"  |\"rows\"  |\"bytes\"  |\"owner\"        |\"retention_time\"  |\"automatic_clustering\"  |\"change_tracking\"  |\"search_optimization\"  |\"search_optimization_progress\"  |\"search_optimization_bytes\"  |\"is_external\"  |\"enable_schema_evolution\"  |\"owner_role_type\"  |\"is_event\"  |\"budget\"  |\"is_hybrid\"  |\"is_iceberg\"  |\"is_dynamic\"  |\"is_immutable\"  |\n",
      "-------------------------------------------------------------------------------------------------------------------------------------------------------------------------------------------------------------------------------------------------------------------------------------------------------------------------------------------------------------------------------------------------------------------------------------------------------------------------------\n",
      "|2024-06-13 14:09:43.529000-07:00  |DIAMONDS             |ML_HOL_DB        |ML_HOL_SCHEMA  |TABLE   |           |              |53940   |672768   |ACCOUNTADMIN   |1                 |OFF                     |OFF                |OFF                    |NULL                            |NULL                         |N              |N                          |ROLE               |N           |NULL      |N            |N             |N             |N               |\n",
      "|2024-06-17 10:46:40.093000-07:00  |DIAMONDS_EBOTWICK    |ML_HOL_DB        |ML_HOL_SCHEMA  |TABLE   |           |              |53940   |672768   |ACCOUNTADMIN   |1                 |OFF                     |OFF                |OFF                    |NULL                            |NULL                         |N              |N                          |ROLE               |N           |NULL      |N            |N             |N             |N               |\n",
      "|2024-06-17 14:08:11.881000-07:00  |DIAMONDS_EBOTWICK_2  |ML_HOL_DB        |ML_HOL_SCHEMA  |TABLE   |           |              |53940   |672768   |TEMP_HOL_USER  |1                 |OFF                     |OFF                |OFF                    |NULL                            |NULL                         |N              |N                          |ROLE               |N           |NULL      |N            |N             |N             |N               |\n",
      "|2024-06-18 11:32:36.432000-07:00  |DIAMONDS_EBOTWICK_3  |ML_HOL_DB        |ML_HOL_SCHEMA  |TABLE   |           |              |53940   |672768   |TEMP_HOL_USER  |1                 |OFF                     |OFF                |OFF                    |NULL                            |NULL                         |N              |N                          |ROLE               |N           |NULL      |N            |N             |N             |N               |\n",
      "|2024-08-29 08:13:35.543000-07:00  |SCORING_DATA         |ML_HOL_DB        |ML_HOL_SCHEMA  |TABLE   |           |              |48528   |663552   |TEMP_HOL_USER  |1                 |OFF                     |OFF                |OFF                    |NULL                            |NULL                         |N              |N                          |ROLE               |N           |NULL      |N            |N             |N             |N               |\n",
      "-------------------------------------------------------------------------------------------------------------------------------------------------------------------------------------------------------------------------------------------------------------------------------------------------------------------------------------------------------------------------------------------------------------------------------------------------------------------------------\n",
      "\n"
     ]
    }
   ],
   "source": [
    "session.sql('SHOW TABLES;').show()"
   ]
  },
  {
   "cell_type": "code",
   "execution_count": 8,
   "metadata": {},
   "outputs": [],
   "source": [
    "scoring_data = session.table('SCORING_DATA')"
   ]
  },
  {
   "cell_type": "code",
   "execution_count": 9,
   "metadata": {},
   "outputs": [
    {
     "name": "stdout",
     "output_type": "stream",
     "text": [
      "-----------------------------------------------------------------------------------------------------------------------------------------------------------------------------------------------------------------------\n",
      "|\"CARAT\"               |\"DEPTH\"              |\"TABLE_PCT\"          |\"X\"                  |\"Y\"                  |\"Z\"                  |\"CUT_OE\"  |\"COLOR_OE\"  |\"CLARITY_OE\"  |\"COLOR\"  |\"CLARITY\"  |\"PRICE\"  |\"CUT\"    |\n",
      "-----------------------------------------------------------------------------------------------------------------------------------------------------------------------------------------------------------------------\n",
      "|0.006237006237006237  |0.5138888888888888   |0.23076923076923073  |0.3677839851024209   |0.06757215619694397  |0.07641509433962265  |0.0       |1.0         |6.0           |E        |SI2        |326      |IDEAL    |\n",
      "|0.002079002079002079  |0.46666666666666656  |0.34615384615384615  |0.36219739292364994  |0.06519524617996604  |0.07264150943396226  |1.0       |1.0         |5.0           |E        |SI1        |326      |PREMIUM  |\n",
      "|0.006237006237006237  |0.38611111111111107  |0.423076923076923    |0.37709497206703907  |0.06910016977928693  |0.07264150943396226  |3.0       |1.0         |3.0           |E        |VS1        |327      |GOOD     |\n",
      "|0.018711018711018705  |0.5388888888888888   |0.28846153846153844  |0.3910614525139665   |0.07181663837011885  |0.08270440251572327  |1.0       |5.0         |4.0           |I        |VS2        |334      |PREMIUM  |\n",
      "|0.02286902286902287   |0.5638888888888887   |0.28846153846153844  |0.404096834264432    |0.07385398981324279  |0.08647798742138364  |3.0       |6.0         |6.0           |J        |SI2        |335      |GOOD     |\n",
      "-----------------------------------------------------------------------------------------------------------------------------------------------------------------------------------------------------------------------\n",
      "\n"
     ]
    }
   ],
   "source": [
    "scoring_data.show(5)"
   ]
  },
  {
   "cell_type": "code",
   "execution_count": 10,
   "metadata": {},
   "outputs": [],
   "source": [
    "db = identifier._get_unescaped_name(session.get_current_database())\n",
    "schema = identifier._get_unescaped_name(session.get_current_schema())\n",
    "snowflake_ml_registry = Registry(session=session, database_name=db, schema_name=schema)"
   ]
  },
  {
   "cell_type": "code",
   "execution_count": 11,
   "metadata": {},
   "outputs": [
    {
     "data": {
      "text/html": [
       "<div>\n",
       "<style scoped>\n",
       "    .dataframe tbody tr th:only-of-type {\n",
       "        vertical-align: middle;\n",
       "    }\n",
       "\n",
       "    .dataframe tbody tr th {\n",
       "        vertical-align: top;\n",
       "    }\n",
       "\n",
       "    .dataframe thead th {\n",
       "        text-align: right;\n",
       "    }\n",
       "</style>\n",
       "<table border=\"1\" class=\"dataframe\">\n",
       "  <thead>\n",
       "    <tr style=\"text-align: right;\">\n",
       "      <th></th>\n",
       "      <th>created_on</th>\n",
       "      <th>name</th>\n",
       "      <th>model_type</th>\n",
       "      <th>database_name</th>\n",
       "      <th>schema_name</th>\n",
       "      <th>comment</th>\n",
       "      <th>owner</th>\n",
       "      <th>default_version_name</th>\n",
       "      <th>versions</th>\n",
       "      <th>aliases</th>\n",
       "    </tr>\n",
       "  </thead>\n",
       "  <tbody>\n",
       "    <tr>\n",
       "      <th>0</th>\n",
       "      <td>2024-06-17 23:22:19.546000-07:00</td>\n",
       "      <td>DIAMONDS_PRICE_PREDICTION_EBOTWICK</td>\n",
       "      <td>USER_MODEL</td>\n",
       "      <td>ML_HOL_DB</td>\n",
       "      <td>ML_HOL_SCHEMA</td>\n",
       "      <td>None</td>\n",
       "      <td>TEMP_HOL_USER</td>\n",
       "      <td>V0</td>\n",
       "      <td>[\"V0\",\"V1\"]</td>\n",
       "      <td>{\"DEFAULT\":\"V0\",\"FIRST\":\"V0\",\"LAST\":\"V1\"}</td>\n",
       "    </tr>\n",
       "    <tr>\n",
       "      <th>1</th>\n",
       "      <td>2024-06-18 12:08:21.887000-07:00</td>\n",
       "      <td>DIAMONDS_PRICE_PREDICTION_EBOTWICK_3</td>\n",
       "      <td>USER_MODEL</td>\n",
       "      <td>ML_HOL_DB</td>\n",
       "      <td>ML_HOL_SCHEMA</td>\n",
       "      <td>None</td>\n",
       "      <td>TEMP_HOL_USER</td>\n",
       "      <td>V0</td>\n",
       "      <td>[\"V0\",\"V1\",\"V2\",\"V3\"]</td>\n",
       "      <td>{\"DEFAULT\":\"V0\",\"FIRST\":\"V0\",\"LAST\":\"V3\"}</td>\n",
       "    </tr>\n",
       "    <tr>\n",
       "      <th>2</th>\n",
       "      <td>2024-09-06 10:14:14.206000-07:00</td>\n",
       "      <td>MODEL_WITH_EXPLAIN_ENABLED</td>\n",
       "      <td>USER_MODEL</td>\n",
       "      <td>ML_HOL_DB</td>\n",
       "      <td>ML_HOL_SCHEMA</td>\n",
       "      <td>None</td>\n",
       "      <td>TEMP_HOL_USER</td>\n",
       "      <td>EXPLAIN_V0</td>\n",
       "      <td>[\"EXPLAIN_V0\"]</td>\n",
       "      <td>{\"DEFAULT\":\"EXPLAIN_V0\",\"FIRST\":\"EXPLAIN_V0\",\"...</td>\n",
       "    </tr>\n",
       "  </tbody>\n",
       "</table>\n",
       "</div>"
      ],
      "text/plain": [
       "                        created_on                                  name  \\\n",
       "0 2024-06-17 23:22:19.546000-07:00    DIAMONDS_PRICE_PREDICTION_EBOTWICK   \n",
       "1 2024-06-18 12:08:21.887000-07:00  DIAMONDS_PRICE_PREDICTION_EBOTWICK_3   \n",
       "2 2024-09-06 10:14:14.206000-07:00            MODEL_WITH_EXPLAIN_ENABLED   \n",
       "\n",
       "   model_type database_name    schema_name comment          owner  \\\n",
       "0  USER_MODEL     ML_HOL_DB  ML_HOL_SCHEMA    None  TEMP_HOL_USER   \n",
       "1  USER_MODEL     ML_HOL_DB  ML_HOL_SCHEMA    None  TEMP_HOL_USER   \n",
       "2  USER_MODEL     ML_HOL_DB  ML_HOL_SCHEMA    None  TEMP_HOL_USER   \n",
       "\n",
       "  default_version_name               versions  \\\n",
       "0                   V0            [\"V0\",\"V1\"]   \n",
       "1                   V0  [\"V0\",\"V1\",\"V2\",\"V3\"]   \n",
       "2           EXPLAIN_V0         [\"EXPLAIN_V0\"]   \n",
       "\n",
       "                                             aliases  \n",
       "0          {\"DEFAULT\":\"V0\",\"FIRST\":\"V0\",\"LAST\":\"V1\"}  \n",
       "1          {\"DEFAULT\":\"V0\",\"FIRST\":\"V0\",\"LAST\":\"V3\"}  \n",
       "2  {\"DEFAULT\":\"EXPLAIN_V0\",\"FIRST\":\"EXPLAIN_V0\",\"...  "
      ]
     },
     "execution_count": 11,
     "metadata": {},
     "output_type": "execute_result"
    }
   ],
   "source": [
    "snowflake_ml_registry.show_models()"
   ]
  },
  {
   "cell_type": "code",
   "execution_count": 12,
   "metadata": {},
   "outputs": [
    {
     "data": {
      "text/plain": [
       "[{'name': 'PREDICT',\n",
       "  'target_method': 'predict',\n",
       "  'target_method_function_type': 'FUNCTION',\n",
       "  'signature': ModelSignature(\n",
       "                      inputs=[\n",
       "                          FeatureSpec(dtype=DataType.DOUBLE, name='CUT_OE'),\n",
       "  \t\tFeatureSpec(dtype=DataType.DOUBLE, name='COLOR_OE'),\n",
       "  \t\tFeatureSpec(dtype=DataType.DOUBLE, name='CLARITY_OE'),\n",
       "  \t\tFeatureSpec(dtype=DataType.DOUBLE, name='CARAT'),\n",
       "  \t\tFeatureSpec(dtype=DataType.DOUBLE, name='DEPTH'),\n",
       "  \t\tFeatureSpec(dtype=DataType.DOUBLE, name='TABLE_PCT'),\n",
       "  \t\tFeatureSpec(dtype=DataType.DOUBLE, name='X'),\n",
       "  \t\tFeatureSpec(dtype=DataType.DOUBLE, name='Y'),\n",
       "  \t\tFeatureSpec(dtype=DataType.DOUBLE, name='Z')\n",
       "                      ],\n",
       "                      outputs=[\n",
       "                          FeatureSpec(dtype=DataType.DOUBLE, name='CUT_OE'),\n",
       "  \t\tFeatureSpec(dtype=DataType.DOUBLE, name='COLOR_OE'),\n",
       "  \t\tFeatureSpec(dtype=DataType.DOUBLE, name='CLARITY_OE'),\n",
       "  \t\tFeatureSpec(dtype=DataType.DOUBLE, name='CARAT'),\n",
       "  \t\tFeatureSpec(dtype=DataType.DOUBLE, name='DEPTH'),\n",
       "  \t\tFeatureSpec(dtype=DataType.DOUBLE, name='TABLE_PCT'),\n",
       "  \t\tFeatureSpec(dtype=DataType.DOUBLE, name='X'),\n",
       "  \t\tFeatureSpec(dtype=DataType.DOUBLE, name='Y'),\n",
       "  \t\tFeatureSpec(dtype=DataType.DOUBLE, name='Z'),\n",
       "  \t\tFeatureSpec(dtype=DataType.DOUBLE, name='PREDICTED_PRICE')\n",
       "                      ]\n",
       "                  ),\n",
       "  'is_partitioned': False}]"
      ]
     },
     "execution_count": 12,
     "metadata": {},
     "output_type": "execute_result"
    }
   ],
   "source": [
    "model = snowflake_ml_registry.get_model('DIAMONDS_PRICE_PREDICTION_EBOTWICK').version('V0')\n",
    "model._functions"
   ]
  },
  {
   "cell_type": "code",
   "execution_count": 13,
   "metadata": {},
   "outputs": [],
   "source": [
    "#Score loaded model version\n",
    "result = model.run(scoring_data, function_name=\"predict\")\n",
    "result = result.rename({result.columns[-1]: \"predicted_price\"})\n"
   ]
  },
  {
   "cell_type": "code",
   "execution_count": 14,
   "metadata": {},
   "outputs": [
    {
     "name": "stdout",
     "output_type": "stream",
     "text": [
      "----------------------------------------------------------------------------------------------------------------------------------------------------------------------------------------------------------------------------------------------\n",
      "|\"COLOR\"  |\"CLARITY\"  |\"PRICE\"  |\"CUT\"      |\"CUT_OE\"  |\"COLOR_OE\"  |\"CLARITY_OE\"  |\"CARAT\"               |\"DEPTH\"              |\"TABLE_PCT\"          |\"X\"                  |\"Y\"                  |\"Z\"                  |\"PREDICTED_PRICE\"   |\n",
      "----------------------------------------------------------------------------------------------------------------------------------------------------------------------------------------------------------------------------------------------\n",
      "|E        |SI2        |326      |IDEAL      |0.0       |1.0         |6.0           |0.006237006237006237  |0.5138888888888888   |0.23076923076923073  |0.3677839851024209   |0.06757215619694397  |0.07641509433962265  |439.5343933105469   |\n",
      "|E        |SI1        |326      |PREMIUM    |1.0       |1.0         |5.0           |0.002079002079002079  |0.46666666666666656  |0.34615384615384615  |0.36219739292364994  |0.06519524617996604  |0.07264150943396226  |380.80035400390625  |\n",
      "|E        |VS1        |327      |GOOD       |3.0       |1.0         |3.0           |0.006237006237006237  |0.38611111111111107  |0.423076923076923    |0.37709497206703907  |0.06910016977928693  |0.07264150943396226  |367.88519287109375  |\n",
      "|I        |VS2        |334      |PREMIUM    |1.0       |5.0         |4.0           |0.018711018711018705  |0.5388888888888888   |0.28846153846153844  |0.3910614525139665   |0.07181663837011885  |0.08270440251572327  |436.57720947265625  |\n",
      "|J        |SI2        |335      |GOOD       |3.0       |6.0         |6.0           |0.02286902286902287   |0.5638888888888887   |0.28846153846153844  |0.404096834264432    |0.07385398981324279  |0.08647798742138364  |316.1319580078125   |\n",
      "|J        |VVS2       |336      |VERY_GOOD  |2.0       |6.0         |2.0           |0.008316008316008316  |0.5499999999999998   |0.2692307692307693   |0.36685288640595903  |0.06723259762308999  |0.0779874213836478   |353.42852783203125  |\n",
      "|I        |VVS1       |336      |VERY_GOOD  |2.0       |5.0         |1.0           |0.008316008316008316  |0.536111111111111    |0.2692307692307693   |0.3677839851024209   |0.06757215619694397  |0.07767295597484278  |402.1401062011719   |\n",
      "|H        |SI1        |337      |VERY_GOOD  |2.0       |4.0         |5.0           |0.012474012474012475  |0.5249999999999999   |0.23076923076923073  |0.3789571694599628   |0.06977928692699492  |0.07955974842767295  |366.94775390625     |\n",
      "|E        |VS2        |337      |FAIR       |4.0       |1.0         |4.0           |0.004158004158004158  |0.6138888888888887   |0.34615384615384615  |0.36033519553072624  |0.06417657045840407  |0.07830188679245284  |368.090576171875    |\n",
      "|H        |VS1        |338      |VERY_GOOD  |2.0       |4.0         |3.0           |0.006237006237006237  |0.4555555555555555   |0.34615384615384615  |0.37243947858473     |0.06876061120543293  |0.07515723270440251  |325.5069580078125   |\n",
      "|J        |SI1        |339      |GOOD       |3.0       |6.0         |5.0           |0.02079002079002079   |0.5833333333333333   |0.23076923076923073  |0.3957169459962756   |0.07266553480475382  |0.08584905660377358  |296.77557373046875  |\n",
      "|J        |VS1        |340      |IDEAL      |0.0       |6.0         |3.0           |0.006237006237006237  |0.5499999999999998   |0.2500000000000001   |0.36592178770949724  |0.06621392190152801  |0.07735849056603773  |294.1066589355469   |\n",
      "|F        |SI1        |342      |PREMIUM    |1.0       |2.0         |5.0           |0.004158004158004158  |0.48333333333333317  |0.34615384615384615  |0.3612662942271881   |0.06519524617996604  |0.07327044025157232  |393.4316101074219   |\n",
      "|J        |SI2        |344      |IDEAL      |0.0       |6.0         |6.0           |0.02286902286902287   |0.5333333333333334   |0.21153846153846156  |0.40502793296089384  |0.07419354838709678  |0.08522012578616352  |210.65565490722656  |\n",
      "|E        |SI2        |345      |PREMIUM    |1.0       |1.0         |6.0           |0.0                   |0.47777777777777786  |0.3653846153846153   |0.35288640595903165  |0.0636672325976231   |0.07138364779874214  |345.8014221191406   |\n",
      "|E        |I1         |345      |PREMIUM    |1.0       |1.0         |7.0           |0.02494802494802495   |0.497222222222222    |0.28846153846153844  |0.4078212290502793   |0.07504244482173175  |0.08427672955974844  |380.6496276855469   |\n",
      "|I        |SI2        |348      |IDEAL      |0.0       |5.0         |6.0           |0.02079002079002079   |0.5277777777777777   |0.21153846153846156  |0.4013035381750465   |0.0736842105263158   |0.08427672955974844  |302.3419494628906   |\n",
      "|J        |SI1        |351      |GOOD       |3.0       |6.0         |5.0           |0.02079002079002079   |0.5666666666666667   |0.21153846153846156  |0.393854748603352    |0.07283531409168081  |0.0849056603773585   |288.35760498046875  |\n",
      "|J        |SI1        |351      |GOOD       |3.0       |6.0         |5.0           |0.02079002079002079   |0.5777777777777777   |0.2500000000000001   |0.393854748603352    |0.07232597623089983  |0.08522012578616352  |351.5770263671875   |\n",
      "|I        |SI2        |351      |GOOD       |3.0       |5.0         |6.0           |0.02079002079002079   |0.5638888888888887   |0.2500000000000001   |0.3966480446927374   |0.0730050933786078   |0.08522012578616352  |371.5152282714844   |\n",
      "|E        |VS2        |352      |VERY_GOOD  |2.0       |1.0         |4.0           |0.006237006237006237  |0.5777777777777777   |0.23076923076923073  |0.3584729981378026   |0.06655348047538201  |0.0779874213836478   |438.2021179199219   |\n",
      "|H        |VS1        |353      |VERY_GOOD  |2.0       |4.0         |3.0           |0.006237006237006237  |0.5                  |0.2692307692307693   |0.36685288640595903  |0.06723259762308999  |0.07578616352201259  |355.24591064453125  |\n",
      "|J        |SI1        |353      |VERY_GOOD  |2.0       |6.0         |5.0           |0.02286902286902287   |0.4194444444444445   |0.3653846153846153   |0.4134078212290503   |0.07589134125636672  |0.08144654088050314  |302.81451416015625  |\n",
      "|G        |VVS2       |354      |VERY_GOOD  |2.0       |3.0         |2.0           |0.006237006237006237  |0.48333333333333317  |0.28846153846153844  |0.36964618249534453  |0.06808149405772496  |0.07578616352201259  |468.7049560546875   |\n",
      "|J        |VS2        |357      |VERY_GOOD  |2.0       |6.0         |4.0           |0.02079002079002079   |0.5333333333333334   |0.2692307692307693   |0.3985102420856611   |0.0730050933786078   |0.08396226415094339  |359.4072265625      |\n",
      "----------------------------------------------------------------------------------------------------------------------------------------------------------------------------------------------------------------------------------------------\n",
      "\n"
     ]
    }
   ],
   "source": [
    "result.show(25)\n"
   ]
  },
  {
   "cell_type": "code",
   "execution_count": 15,
   "metadata": {},
   "outputs": [
    {
     "name": "stdout",
     "output_type": "stream",
     "text": [
      "MAPE: 0.06520824113175573\n",
      "R2: 0.9905417941107357\n"
     ]
    }
   ],
   "source": [
    "from snowflake.ml.modeling.metrics import mean_absolute_percentage_error, r2_score\n",
    "\n",
    "mape = mean_absolute_percentage_error(df=result, \n",
    "                                        y_true_col_names=\"PRICE\", \n",
    "                                        y_pred_col_names=\"PREDICTED_PRICE\")\n",
    "\n",
    "r2 = r2_score(df=result, \n",
    "                y_true_col_name=\"PRICE\", \n",
    "                y_pred_col_name=\"PREDICTED_PRICE\")\n",
    "\n",
    "print(\"MAPE:\", mape)\n",
    "print(\"R2:\", r2)"
   ]
  },
  {
   "cell_type": "code",
   "execution_count": 16,
   "metadata": {},
   "outputs": [],
   "source": [
    "old_model = snowflake_ml_registry.get_model(\"DIAMONDS_PRICE_PREDICTION_EBOTWICK\").default\n"
   ]
  },
  {
   "cell_type": "code",
   "execution_count": 19,
   "metadata": {},
   "outputs": [
    {
     "name": "stderr",
     "output_type": "stream",
     "text": [
      "/opt/anaconda3/envs/snowflake-trulens-py39/lib/python3.9/site-packages/snowflake/ml/_internal/telemetry.py:418: RuntimeWarning: Loading model requires to have the exact the same environment as the one when logging the model, otherwise, the model might be not functional or some other problems might occur.\n",
      "  res = func(*args, **kwargs)\n"
     ]
    },
    {
     "data": {
      "text/plain": [
       "<snowflake.ml.modeling.xgboost.xgb_regressor.XGBRegressor at 0x174c35190>"
      ]
     },
     "execution_count": 19,
     "metadata": {},
     "output_type": "execute_result"
    }
   ],
   "source": [
    "model.load(force=True)"
   ]
  },
  {
   "cell_type": "code",
   "execution_count": 22,
   "metadata": {},
   "outputs": [
    {
     "name": "stderr",
     "output_type": "stream",
     "text": [
      "/opt/anaconda3/envs/snowflake-trulens-py39/lib/python3.9/contextlib.py:119: UserWarning: `relax_version` is not set and therefore defaulted to True. Dependency version constraints relaxed from ==x.y.z to >=x.y, <(x+1). To use specific dependency versions for compatibility, reproducibility, etc., set `options={'relax_version': False}` when logging the model.\n",
      "  return next(self.gen)\n",
      "/opt/anaconda3/envs/snowflake-trulens-py39/lib/python3.9/site-packages/snowflake/ml/model/_packager/model_packager.py:92: UserWarning: Inferring model signature from sample input or providing model signature for Snowpark ML Modeling model is not required. Model signature will automatically be inferred during fitting. \n",
      "  handler.save_model(\n"
     ]
    }
   ],
   "source": [
    "old_model = snowflake_ml_registry.get_model(\"DIAMONDS_PRICE_PREDICTION_EBOTWICK\").default\n",
    "# model = mv_old.load()\n",
    "mv_new = snowflake_ml_registry.log_model(\n",
    "    model.load(force=True),\n",
    "    model_name=\"model_with_explain_enabled\",\n",
    "    version_name=\"explain_v1\",\n",
    "    conda_dependencies=[\"snowflake-ml-python\"],\n",
    "    sample_input_data = scoring_data\n",
    ")"
   ]
  },
  {
   "cell_type": "code",
   "execution_count": 26,
   "metadata": {},
   "outputs": [
    {
     "data": {
      "text/plain": [
       "[{'name': 'PREDICT',\n",
       "  'target_method': 'predict',\n",
       "  'target_method_function_type': 'FUNCTION',\n",
       "  'signature': ModelSignature(\n",
       "                      inputs=[\n",
       "                          FeatureSpec(dtype=DataType.DOUBLE, name='CUT_OE'),\n",
       "  \t\tFeatureSpec(dtype=DataType.DOUBLE, name='COLOR_OE'),\n",
       "  \t\tFeatureSpec(dtype=DataType.DOUBLE, name='CLARITY_OE'),\n",
       "  \t\tFeatureSpec(dtype=DataType.DOUBLE, name='CARAT'),\n",
       "  \t\tFeatureSpec(dtype=DataType.DOUBLE, name='DEPTH'),\n",
       "  \t\tFeatureSpec(dtype=DataType.DOUBLE, name='TABLE_PCT'),\n",
       "  \t\tFeatureSpec(dtype=DataType.DOUBLE, name='X'),\n",
       "  \t\tFeatureSpec(dtype=DataType.DOUBLE, name='Y'),\n",
       "  \t\tFeatureSpec(dtype=DataType.DOUBLE, name='Z')\n",
       "                      ],\n",
       "                      outputs=[\n",
       "                          FeatureSpec(dtype=DataType.DOUBLE, name='CUT_OE'),\n",
       "  \t\tFeatureSpec(dtype=DataType.DOUBLE, name='COLOR_OE'),\n",
       "  \t\tFeatureSpec(dtype=DataType.DOUBLE, name='CLARITY_OE'),\n",
       "  \t\tFeatureSpec(dtype=DataType.DOUBLE, name='CARAT'),\n",
       "  \t\tFeatureSpec(dtype=DataType.DOUBLE, name='DEPTH'),\n",
       "  \t\tFeatureSpec(dtype=DataType.DOUBLE, name='TABLE_PCT'),\n",
       "  \t\tFeatureSpec(dtype=DataType.DOUBLE, name='X'),\n",
       "  \t\tFeatureSpec(dtype=DataType.DOUBLE, name='Y'),\n",
       "  \t\tFeatureSpec(dtype=DataType.DOUBLE, name='Z'),\n",
       "  \t\tFeatureSpec(dtype=DataType.DOUBLE, name='PREDICTED_PRICE')\n",
       "                      ]\n",
       "                  ),\n",
       "  'is_partitioned': False}]"
      ]
     },
     "execution_count": 26,
     "metadata": {},
     "output_type": "execute_result"
    }
   ],
   "source": [
    "mv_new.show_functions()"
   ]
  },
  {
   "cell_type": "code",
   "execution_count": 27,
   "metadata": {},
   "outputs": [
    {
     "ename": "ValueError",
     "evalue": "(0000) There is no method with name explain available in the model ML_HOL_DB.ML_HOL_SCHEMA.MODEL_WITH_EXPLAIN_ENABLED version EXPLAIN_V1",
     "output_type": "error",
     "traceback": [
      "\u001b[0;31m---------------------------------------------------------------------------\u001b[0m",
      "\u001b[0;31mValueError\u001b[0m                                Traceback (most recent call last)",
      "File \u001b[0;32m/opt/anaconda3/envs/snowflake-trulens-py39/lib/python3.9/site-packages/snowflake/ml/_internal/telemetry.py:418\u001b[0m, in \u001b[0;36msend_api_usage_telemetry.<locals>.decorator.<locals>.wrap\u001b[0;34m(*args, **kwargs)\u001b[0m\n\u001b[1;32m    417\u001b[0m \u001b[38;5;28;01mtry\u001b[39;00m:\n\u001b[0;32m--> 418\u001b[0m     res \u001b[38;5;241m=\u001b[39m \u001b[43mfunc\u001b[49m\u001b[43m(\u001b[49m\u001b[38;5;241;43m*\u001b[39;49m\u001b[43margs\u001b[49m\u001b[43m,\u001b[49m\u001b[43m \u001b[49m\u001b[38;5;241;43m*\u001b[39;49m\u001b[38;5;241;43m*\u001b[39;49m\u001b[43mkwargs\u001b[49m\u001b[43m)\u001b[49m\n\u001b[1;32m    419\u001b[0m \u001b[38;5;28;01mexcept\u001b[39;00m \u001b[38;5;167;01mException\u001b[39;00m \u001b[38;5;28;01mas\u001b[39;00m e:\n",
      "File \u001b[0;32m/opt/anaconda3/envs/snowflake-trulens-py39/lib/python3.9/site-packages/snowflake/ml/model/_client/model/model_version_impl.py:419\u001b[0m, in \u001b[0;36mModelVersion.run\u001b[0;34m(self, X, service_name, function_name, partition_column, strict_input_validation)\u001b[0m\n\u001b[1;32m    418\u001b[0m     \u001b[38;5;28;01mif\u001b[39;00m target_function_info \u001b[38;5;129;01mis\u001b[39;00m \u001b[38;5;28;01mNone\u001b[39;00m:\n\u001b[0;32m--> 419\u001b[0m         \u001b[38;5;28;01mraise\u001b[39;00m \u001b[38;5;167;01mValueError\u001b[39;00m(\n\u001b[1;32m    420\u001b[0m             \u001b[38;5;124mf\u001b[39m\u001b[38;5;124m\"\u001b[39m\u001b[38;5;124mThere is no method with name \u001b[39m\u001b[38;5;132;01m{\u001b[39;00mfunction_name\u001b[38;5;132;01m}\u001b[39;00m\u001b[38;5;124m available in the model\u001b[39m\u001b[38;5;124m\"\u001b[39m\n\u001b[1;32m    421\u001b[0m             \u001b[38;5;124mf\u001b[39m\u001b[38;5;124m\"\u001b[39m\u001b[38;5;124m \u001b[39m\u001b[38;5;132;01m{\u001b[39;00m\u001b[38;5;28mself\u001b[39m\u001b[38;5;241m.\u001b[39mfully_qualified_model_name\u001b[38;5;132;01m}\u001b[39;00m\u001b[38;5;124m version \u001b[39m\u001b[38;5;132;01m{\u001b[39;00m\u001b[38;5;28mself\u001b[39m\u001b[38;5;241m.\u001b[39mversion_name\u001b[38;5;132;01m}\u001b[39;00m\u001b[38;5;124m\"\u001b[39m\n\u001b[1;32m    422\u001b[0m         )\n\u001b[1;32m    423\u001b[0m \u001b[38;5;28;01melif\u001b[39;00m \u001b[38;5;28mlen\u001b[39m(functions) \u001b[38;5;241m!=\u001b[39m \u001b[38;5;241m1\u001b[39m:\n",
      "\u001b[0;31mValueError\u001b[0m: There is no method with name explain available in the model ML_HOL_DB.ML_HOL_SCHEMA.MODEL_WITH_EXPLAIN_ENABLED version EXPLAIN_V1",
      "\nThe above exception was the direct cause of the following exception:\n",
      "\u001b[0;31mValueError\u001b[0m                                Traceback (most recent call last)",
      "Cell \u001b[0;32mIn[27], line 1\u001b[0m\n\u001b[0;32m----> 1\u001b[0m \u001b[43mmv_new\u001b[49m\u001b[38;5;241;43m.\u001b[39;49m\u001b[43mrun\u001b[49m\u001b[43m(\u001b[49m\u001b[43mscoring_data\u001b[49m\u001b[43m,\u001b[49m\u001b[43m \u001b[49m\u001b[43mfunction_name\u001b[49m\u001b[38;5;241;43m=\u001b[39;49m\u001b[38;5;124;43m\"\u001b[39;49m\u001b[38;5;124;43mexplain\u001b[39;49m\u001b[38;5;124;43m\"\u001b[39;49m\u001b[43m)\u001b[49m\u001b[38;5;241m.\u001b[39mshow(\u001b[38;5;241m5\u001b[39m)\n",
      "File \u001b[0;32m/opt/anaconda3/envs/snowflake-trulens-py39/lib/python3.9/site-packages/snowflake/ml/_internal/telemetry.py:440\u001b[0m, in \u001b[0;36msend_api_usage_telemetry.<locals>.decorator.<locals>.wrap\u001b[0;34m(*args, **kwargs)\u001b[0m\n\u001b[1;32m    438\u001b[0m         \u001b[38;5;28;01mraise\u001b[39;00m me\u001b[38;5;241m.\u001b[39moriginal_exception \u001b[38;5;28;01mfrom\u001b[39;00m \u001b[38;5;28;01mNone\u001b[39;00m\n\u001b[1;32m    439\u001b[0m     \u001b[38;5;28;01melse\u001b[39;00m:\n\u001b[0;32m--> 440\u001b[0m         \u001b[38;5;28;01mraise\u001b[39;00m me\u001b[38;5;241m.\u001b[39moriginal_exception \u001b[38;5;28;01mfrom\u001b[39;00m \u001b[38;5;21;01me\u001b[39;00m\n\u001b[1;32m    441\u001b[0m \u001b[38;5;28;01melse\u001b[39;00m:\n\u001b[1;32m    442\u001b[0m     \u001b[38;5;28;01mreturn\u001b[39;00m update_stmt_params_if_snowpark_df(res, statement_params)\n",
      "\u001b[0;31mValueError\u001b[0m: (0000) There is no method with name explain available in the model ML_HOL_DB.ML_HOL_SCHEMA.MODEL_WITH_EXPLAIN_ENABLED version EXPLAIN_V1"
     ]
    }
   ],
   "source": [
    "mv_new.run(scoring_data, function_name=\"explain\").show(5)"
   ]
  }
 ],
 "metadata": {
  "kernelspec": {
   "display_name": "getting_started_llmops",
   "language": "python",
   "name": "python3"
  },
  "language_info": {
   "codemirror_mode": {
    "name": "ipython",
    "version": 3
   },
   "file_extension": ".py",
   "mimetype": "text/x-python",
   "name": "python",
   "nbconvert_exporter": "python",
   "pygments_lexer": "ipython3",
   "version": "3.11.9"
  }
 },
 "nbformat": 4,
 "nbformat_minor": 2
}
