{
 "metadata": {
  "kernelspec": {
   "display_name": "Python37 (ipykernel)",
   "language": "python",
   "name": "python3"
  },
  "language_info": {
   "codemirror_mode": {
    "name": "ipython",
    "version": 3
   },
   "file_extension": ".py",
   "mimetype": "text/x-python",
   "name": "python",
   "nbconvert_exporter": "python",
   "pygments_lexer": "ipython3",
   "version": "3.9.7"
  }
 },
 "nbformat_minor": 4,
 "nbformat": 4,
 "cells": [
  {
   "cell_type": "code",
   "execution_count": 1,
   "metadata": {
    "name": "imports_and_session",
    "language": "python",
    "collapsed": false,
    "resultHeight": 84
   },
   "outputs": [],
   "source": "import pandas as pd\nimport numpy as np\nimport sklearn\nfrom sklearn.pipeline import Pipeline\nimport math\nimport pickle\n\nfrom sklearn.model_selection import train_test_split\nfrom sklearn.pipeline import Pipeline \nfrom sklearn.preprocessing import StandardScaler\nfrom sklearn.preprocessing import OneHotEncoder\nfrom sklearn.compose import ColumnTransformer\nfrom sklearn.ensemble import RandomForestClassifier, GradientBoostingClassifier\nfrom sklearn.linear_model import LogisticRegression\nfrom sklearn.metrics import classification_report, accuracy_score, confusion_matrix, f1_score\n\nfrom snowflake.ml.registry import Registry\n\n# We can also use Snowpark for our analyses!\nfrom snowflake.snowpark.context import get_active_session\nsession = get_active_session()\nsession\n",
   "id": "ce110000-1111-2222-3333-ffffff000000"
  },
  {
   "cell_type": "code",
   "execution_count": 2,
   "metadata": {
    "name": "read_data",
    "language": "python",
    "resultHeight": 251,
    "collapsed": false
   },
   "outputs": [
    {
     "data": {
      "text/plain": [
       "'1.0.2'"
      ]
     },
     "execution_count": 2,
     "metadata": {},
     "output_type": "execute_result"
    }
   ],
   "source": "df = session.table(\"MORTGAGE_TRAINING_DATA\").to_pandas()\ndf.head()",
   "id": "ce110000-1111-2222-3333-ffffff000001"
  },
  {
   "cell_type": "code",
   "execution_count": 8,
   "metadata": {
    "name": "feature_arrays",
    "language": "python",
    "resultHeight": 60,
    "collapsed": false
   },
   "outputs": [],
   "source": "#Create lists of categorical and continuous features for later use\ncatFeats = list(df.columns[df.dtypes == 'O'])\ncontFeats = list(df.columns.drop(catFeats))\ncontFeats.remove('MORTGAGERESPONSE')\n\nprint(contFeats)\nprint(catFeats)",
   "id": "ce110000-1111-2222-3333-ffffff000007"
  },
  {
   "cell_type": "code",
   "execution_count": 10,
   "metadata": {
    "name": "train_test_split",
    "language": "python",
    "resultHeight": 0,
    "collapsed": false
   },
   "outputs": [],
   "source": "#split data into train and test sets and isolate target from input features\n\nX = df.drop('MORTGAGERESPONSE', axis =1)\ny = df['MORTGAGERESPONSE']\nX_train, X_test, y_train, y_test = train_test_split(X, y, test_size = 0.3, \\\n                                                    random_state=14)",
   "id": "ce110000-1111-2222-3333-ffffff000009"
  },
  {
   "cell_type": "code",
   "execution_count": 11,
   "metadata": {
    "name": "pipeline_defintion",
    "language": "python",
    "resultHeight": 0,
    "collapsed": false
   },
   "outputs": [],
   "source": "#Build preprocessing pipeline steps for categorical and continuous features\ncontTransform = Pipeline(steps=[('scaler', StandardScaler())])\ncatTransform = Pipeline(steps = [('oneHots', OneHotEncoder(drop = 'first'))])\n\n\n#Form the column transformer to apply transforms to the appropriate features\n\nallFeatTransform = ColumnTransformer(\n    transformers=[\n        ('numerical', contTransform, contFeats),\n        ('categorical', catTransform, catFeats)])",
   "id": "ce110000-1111-2222-3333-ffffff000010"
  },
  {
   "cell_type": "markdown",
   "id": "ce110000-1111-2222-3333-ffffff000027",
   "metadata": {
    "name": "RandomForest",
    "resultHeight": 60
   },
   "source": [
    "## Random forest"
   ]
  },
  {
   "cell_type": "code",
   "execution_count": 27,
   "metadata": {
    "name": "define_rf_pipeline",
    "language": "python",
    "collapsed": false,
    "resultHeight": 0
   },
   "outputs": [],
   "source": "#Define the full pipeline with the preprocessing steps and the random forest classifier\nrf_pipe =Pipeline(steps = [('preprocessing_steps', allFeatTransform), \\\n                               ('rf_classifier', RandomForestClassifier())])",
   "id": "ce110000-1111-2222-3333-ffffff000028"
  },
  {
   "cell_type": "code",
   "execution_count": 28,
   "metadata": {
    "name": "fit_pipeline",
    "language": "python",
    "collapsed": false,
    "resultHeight": 323
   },
   "outputs": [
    {
     "data": {
      "text/html": [
       "<style>#sk-d1f46e26-2b40-4fd8-9a6a-952fc11f0a6d {color: black;background-color: white;}#sk-d1f46e26-2b40-4fd8-9a6a-952fc11f0a6d pre{padding: 0;}#sk-d1f46e26-2b40-4fd8-9a6a-952fc11f0a6d div.sk-toggleable {background-color: white;}#sk-d1f46e26-2b40-4fd8-9a6a-952fc11f0a6d label.sk-toggleable__label {cursor: pointer;display: block;width: 100%;margin-bottom: 0;padding: 0.3em;box-sizing: border-box;text-align: center;}#sk-d1f46e26-2b40-4fd8-9a6a-952fc11f0a6d label.sk-toggleable__label-arrow:before {content: \"▸\";float: left;margin-right: 0.25em;color: #696969;}#sk-d1f46e26-2b40-4fd8-9a6a-952fc11f0a6d label.sk-toggleable__label-arrow:hover:before {color: black;}#sk-d1f46e26-2b40-4fd8-9a6a-952fc11f0a6d div.sk-estimator:hover label.sk-toggleable__label-arrow:before {color: black;}#sk-d1f46e26-2b40-4fd8-9a6a-952fc11f0a6d div.sk-toggleable__content {max-height: 0;max-width: 0;overflow: hidden;text-align: left;background-color: #f0f8ff;}#sk-d1f46e26-2b40-4fd8-9a6a-952fc11f0a6d div.sk-toggleable__content pre {margin: 0.2em;color: black;border-radius: 0.25em;background-color: #f0f8ff;}#sk-d1f46e26-2b40-4fd8-9a6a-952fc11f0a6d input.sk-toggleable__control:checked~div.sk-toggleable__content {max-height: 200px;max-width: 100%;overflow: auto;}#sk-d1f46e26-2b40-4fd8-9a6a-952fc11f0a6d input.sk-toggleable__control:checked~label.sk-toggleable__label-arrow:before {content: \"▾\";}#sk-d1f46e26-2b40-4fd8-9a6a-952fc11f0a6d div.sk-estimator input.sk-toggleable__control:checked~label.sk-toggleable__label {background-color: #d4ebff;}#sk-d1f46e26-2b40-4fd8-9a6a-952fc11f0a6d div.sk-label input.sk-toggleable__control:checked~label.sk-toggleable__label {background-color: #d4ebff;}#sk-d1f46e26-2b40-4fd8-9a6a-952fc11f0a6d input.sk-hidden--visually {border: 0;clip: rect(1px 1px 1px 1px);clip: rect(1px, 1px, 1px, 1px);height: 1px;margin: -1px;overflow: hidden;padding: 0;position: absolute;width: 1px;}#sk-d1f46e26-2b40-4fd8-9a6a-952fc11f0a6d div.sk-estimator {font-family: monospace;background-color: #f0f8ff;border: 1px dotted black;border-radius: 0.25em;box-sizing: border-box;margin-bottom: 0.5em;}#sk-d1f46e26-2b40-4fd8-9a6a-952fc11f0a6d div.sk-estimator:hover {background-color: #d4ebff;}#sk-d1f46e26-2b40-4fd8-9a6a-952fc11f0a6d div.sk-parallel-item::after {content: \"\";width: 100%;border-bottom: 1px solid gray;flex-grow: 1;}#sk-d1f46e26-2b40-4fd8-9a6a-952fc11f0a6d div.sk-label:hover label.sk-toggleable__label {background-color: #d4ebff;}#sk-d1f46e26-2b40-4fd8-9a6a-952fc11f0a6d div.sk-serial::before {content: \"\";position: absolute;border-left: 1px solid gray;box-sizing: border-box;top: 2em;bottom: 0;left: 50%;}#sk-d1f46e26-2b40-4fd8-9a6a-952fc11f0a6d div.sk-serial {display: flex;flex-direction: column;align-items: center;background-color: white;padding-right: 0.2em;padding-left: 0.2em;}#sk-d1f46e26-2b40-4fd8-9a6a-952fc11f0a6d div.sk-item {z-index: 1;}#sk-d1f46e26-2b40-4fd8-9a6a-952fc11f0a6d div.sk-parallel {display: flex;align-items: stretch;justify-content: center;background-color: white;}#sk-d1f46e26-2b40-4fd8-9a6a-952fc11f0a6d div.sk-parallel::before {content: \"\";position: absolute;border-left: 1px solid gray;box-sizing: border-box;top: 2em;bottom: 0;left: 50%;}#sk-d1f46e26-2b40-4fd8-9a6a-952fc11f0a6d div.sk-parallel-item {display: flex;flex-direction: column;position: relative;background-color: white;}#sk-d1f46e26-2b40-4fd8-9a6a-952fc11f0a6d div.sk-parallel-item:first-child::after {align-self: flex-end;width: 50%;}#sk-d1f46e26-2b40-4fd8-9a6a-952fc11f0a6d div.sk-parallel-item:last-child::after {align-self: flex-start;width: 50%;}#sk-d1f46e26-2b40-4fd8-9a6a-952fc11f0a6d div.sk-parallel-item:only-child::after {width: 0;}#sk-d1f46e26-2b40-4fd8-9a6a-952fc11f0a6d div.sk-dashed-wrapped {border: 1px dashed gray;margin: 0 0.4em 0.5em 0.4em;box-sizing: border-box;padding-bottom: 0.4em;background-color: white;position: relative;}#sk-d1f46e26-2b40-4fd8-9a6a-952fc11f0a6d div.sk-label label {font-family: monospace;font-weight: bold;background-color: white;display: inline-block;line-height: 1.2em;}#sk-d1f46e26-2b40-4fd8-9a6a-952fc11f0a6d div.sk-label-container {position: relative;z-index: 2;text-align: center;}#sk-d1f46e26-2b40-4fd8-9a6a-952fc11f0a6d div.sk-container {/* jupyter's `normalize.less` sets `[hidden] { display: none; }` but bootstrap.min.css set `[hidden] { display: none !important; }` so we also need the `!important` here to be able to override the default hidden behavior on the sphinx rendered scikit-learn.org. See: https://github.com/scikit-learn/scikit-learn/issues/21755 */display: inline-block !important;position: relative;}#sk-d1f46e26-2b40-4fd8-9a6a-952fc11f0a6d div.sk-text-repr-fallback {display: none;}</style><div id=\"sk-d1f46e26-2b40-4fd8-9a6a-952fc11f0a6d\" class=\"sk-top-container\"><div class=\"sk-text-repr-fallback\"><pre>Pipeline(memory=None,\n",
       "         steps=[(&#x27;allFeatTransform&#x27;,\n",
       "                 ColumnTransformer(n_jobs=None, remainder=&#x27;drop&#x27;,\n",
       "                                   sparse_threshold=0.3,\n",
       "                                   transformer_weights=None,\n",
       "                                   transformers=[(&#x27;numerical&#x27;,\n",
       "                                                  Pipeline(memory=None,\n",
       "                                                           steps=[(&#x27;scaler&#x27;,\n",
       "                                                                   StandardScaler(copy=True,\n",
       "                                                                                  with_mean=True,\n",
       "                                                                                  with_std=True))],\n",
       "                                                           verbose=False),\n",
       "                                                  [&#x27;incomeImputed&#x27;,\n",
       "                                                   &#x27;loan_amount_000s&#x27;,\n",
       "                                                   &#x27;application_date_indicator&#x27;]),\n",
       "                                                 (&#x27;cat...\n",
       "                 RandomForestClassifier(bootstrap=True, ccp_alpha=0.0,\n",
       "                                        class_weight=None, criterion=&#x27;gini&#x27;,\n",
       "                                        max_depth=None, max_features=&#x27;auto&#x27;,\n",
       "                                        max_leaf_nodes=None, max_samples=None,\n",
       "                                        min_impurity_decrease=0.0,\n",
       "                                        min_samples_leaf=1, min_samples_split=2,\n",
       "                                        min_weight_fraction_leaf=0.0,\n",
       "                                        n_estimators=100, n_jobs=None,\n",
       "                                        oob_score=False, random_state=None,\n",
       "                                        verbose=0, warm_start=False))],\n",
       "         verbose=False)</pre><b>Please rerun this cell to show the HTML repr or trust the notebook.</b></div><div class=\"sk-container\" hidden><div class=\"sk-item sk-dashed-wrapped\"><div class=\"sk-label-container\"><div class=\"sk-label sk-toggleable\"><input class=\"sk-toggleable__control sk-hidden--visually\" id=\"c397df97-1be1-4119-8160-d418db3cedc1\" type=\"checkbox\" ><label for=\"c397df97-1be1-4119-8160-d418db3cedc1\" class=\"sk-toggleable__label sk-toggleable__label-arrow\">Pipeline</label><div class=\"sk-toggleable__content\"><pre>Pipeline(memory=None,\n",
       "         steps=[(&#x27;allFeatTransform&#x27;,\n",
       "                 ColumnTransformer(n_jobs=None, remainder=&#x27;drop&#x27;,\n",
       "                                   sparse_threshold=0.3,\n",
       "                                   transformer_weights=None,\n",
       "                                   transformers=[(&#x27;numerical&#x27;,\n",
       "                                                  Pipeline(memory=None,\n",
       "                                                           steps=[(&#x27;scaler&#x27;,\n",
       "                                                                   StandardScaler(copy=True,\n",
       "                                                                                  with_mean=True,\n",
       "                                                                                  with_std=True))],\n",
       "                                                           verbose=False),\n",
       "                                                  [&#x27;incomeImputed&#x27;,\n",
       "                                                   &#x27;loan_amount_000s&#x27;,\n",
       "                                                   &#x27;application_date_indicator&#x27;]),\n",
       "                                                 (&#x27;cat...\n",
       "                 RandomForestClassifier(bootstrap=True, ccp_alpha=0.0,\n",
       "                                        class_weight=None, criterion=&#x27;gini&#x27;,\n",
       "                                        max_depth=None, max_features=&#x27;auto&#x27;,\n",
       "                                        max_leaf_nodes=None, max_samples=None,\n",
       "                                        min_impurity_decrease=0.0,\n",
       "                                        min_samples_leaf=1, min_samples_split=2,\n",
       "                                        min_weight_fraction_leaf=0.0,\n",
       "                                        n_estimators=100, n_jobs=None,\n",
       "                                        oob_score=False, random_state=None,\n",
       "                                        verbose=0, warm_start=False))],\n",
       "         verbose=False)</pre></div></div></div><div class=\"sk-serial\"><div class=\"sk-item sk-dashed-wrapped\"><div class=\"sk-label-container\"><div class=\"sk-label sk-toggleable\"><input class=\"sk-toggleable__control sk-hidden--visually\" id=\"ffbc0002-4999-42ba-b16e-b13768b7cb37\" type=\"checkbox\" ><label for=\"ffbc0002-4999-42ba-b16e-b13768b7cb37\" class=\"sk-toggleable__label sk-toggleable__label-arrow\">allFeatTransform: ColumnTransformer</label><div class=\"sk-toggleable__content\"><pre>ColumnTransformer(n_jobs=None, remainder=&#x27;drop&#x27;, sparse_threshold=0.3,\n",
       "                  transformer_weights=None,\n",
       "                  transformers=[(&#x27;numerical&#x27;,\n",
       "                                 Pipeline(memory=None,\n",
       "                                          steps=[(&#x27;scaler&#x27;,\n",
       "                                                  StandardScaler(copy=True,\n",
       "                                                                 with_mean=True,\n",
       "                                                                 with_std=True))],\n",
       "                                          verbose=False),\n",
       "                                 [&#x27;incomeImputed&#x27;, &#x27;loan_amount_000s&#x27;,\n",
       "                                  &#x27;application_date_indicator&#x27;]),\n",
       "                                (&#x27;categorical&#x27;,\n",
       "                                 Pipeline(memory=None,\n",
       "                                          steps=[(&#x27;oneHots&#x27;,\n",
       "                                                  OneHotEncoder(categories=&#x27;auto&#x27;,\n",
       "                                                                drop=&#x27;first&#x27;,\n",
       "                                                                dtype=&lt;class &#x27;numpy.float64&#x27;&gt;,\n",
       "                                                                handle_unknown=&#x27;error&#x27;,\n",
       "                                                                sparse=True))],\n",
       "                                          verbose=False),\n",
       "                                 [&#x27;lien_status_name&#x27;, &#x27;loan_purpose_name&#x27;])],\n",
       "                  verbose=False, verbose_feature_names_out=True)</pre></div></div></div><div class=\"sk-parallel\"><div class=\"sk-parallel-item\"><div class=\"sk-item\"><div class=\"sk-label-container\"><div class=\"sk-label sk-toggleable\"><input class=\"sk-toggleable__control sk-hidden--visually\" id=\"51e15003-dde8-4083-814d-bb896d7f13f9\" type=\"checkbox\" ><label for=\"51e15003-dde8-4083-814d-bb896d7f13f9\" class=\"sk-toggleable__label sk-toggleable__label-arrow\">numerical</label><div class=\"sk-toggleable__content\"><pre>[&#x27;incomeImputed&#x27;, &#x27;loan_amount_000s&#x27;, &#x27;application_date_indicator&#x27;]</pre></div></div></div><div class=\"sk-serial\"><div class=\"sk-item\"><div class=\"sk-serial\"><div class=\"sk-item\"><div class=\"sk-estimator sk-toggleable\"><input class=\"sk-toggleable__control sk-hidden--visually\" id=\"9c7acfe5-e8ba-4d03-a3b5-9b27fb041660\" type=\"checkbox\" ><label for=\"9c7acfe5-e8ba-4d03-a3b5-9b27fb041660\" class=\"sk-toggleable__label sk-toggleable__label-arrow\">StandardScaler</label><div class=\"sk-toggleable__content\"><pre>StandardScaler()</pre></div></div></div></div></div></div></div></div><div class=\"sk-parallel-item\"><div class=\"sk-item\"><div class=\"sk-label-container\"><div class=\"sk-label sk-toggleable\"><input class=\"sk-toggleable__control sk-hidden--visually\" id=\"5e4c0dbb-c9a3-4953-8cd3-db40132f37e2\" type=\"checkbox\" ><label for=\"5e4c0dbb-c9a3-4953-8cd3-db40132f37e2\" class=\"sk-toggleable__label sk-toggleable__label-arrow\">categorical</label><div class=\"sk-toggleable__content\"><pre>[&#x27;lien_status_name&#x27;, &#x27;loan_purpose_name&#x27;]</pre></div></div></div><div class=\"sk-serial\"><div class=\"sk-item\"><div class=\"sk-serial\"><div class=\"sk-item\"><div class=\"sk-estimator sk-toggleable\"><input class=\"sk-toggleable__control sk-hidden--visually\" id=\"604cfac4-a560-4596-97f3-2e3e8d6fa8c6\" type=\"checkbox\" ><label for=\"604cfac4-a560-4596-97f3-2e3e8d6fa8c6\" class=\"sk-toggleable__label sk-toggleable__label-arrow\">OneHotEncoder</label><div class=\"sk-toggleable__content\"><pre>OneHotEncoder(drop=&#x27;first&#x27;)</pre></div></div></div></div></div></div></div></div></div></div><div class=\"sk-item\"><div class=\"sk-estimator sk-toggleable\"><input class=\"sk-toggleable__control sk-hidden--visually\" id=\"687525fe-9f99-4726-acab-c32f091160eb\" type=\"checkbox\" ><label for=\"687525fe-9f99-4726-acab-c32f091160eb\" class=\"sk-toggleable__label sk-toggleable__label-arrow\">RandomForestClassifier</label><div class=\"sk-toggleable__content\"><pre>RandomForestClassifier()</pre></div></div></div></div></div></div></div>"
      ],
      "text/plain": [
       "Pipeline(memory=None,\n",
       "         steps=[('allFeatTransform',\n",
       "                 ColumnTransformer(n_jobs=None, remainder='drop',\n",
       "                                   sparse_threshold=0.3,\n",
       "                                   transformer_weights=None,\n",
       "                                   transformers=[('numerical',\n",
       "                                                  Pipeline(memory=None,\n",
       "                                                           steps=[('scaler',\n",
       "                                                                   StandardScaler(copy=True,\n",
       "                                                                                  with_mean=True,\n",
       "                                                                                  with_std=True))],\n",
       "                                                           verbose=False),\n",
       "                                                  ['incomeImputed',\n",
       "                                                   'loan_amount_000s',\n",
       "                                                   'application_date_indicator']),\n",
       "                                                 ('cat...\n",
       "                 RandomForestClassifier(bootstrap=True, ccp_alpha=0.0,\n",
       "                                        class_weight=None, criterion='gini',\n",
       "                                        max_depth=None, max_features='auto',\n",
       "                                        max_leaf_nodes=None, max_samples=None,\n",
       "                                        min_impurity_decrease=0.0,\n",
       "                                        min_samples_leaf=1, min_samples_split=2,\n",
       "                                        min_weight_fraction_leaf=0.0,\n",
       "                                        n_estimators=100, n_jobs=None,\n",
       "                                        oob_score=False, random_state=None,\n",
       "                                        verbose=0, warm_start=False))],\n",
       "         verbose=False)"
      ]
     },
     "execution_count": 28,
     "metadata": {},
     "output_type": "execute_result"
    }
   ],
   "source": "#Train the model\nrf_pipe.fit(X_train, y_train)",
   "id": "ce110000-1111-2222-3333-ffffff000029"
  },
  {
   "cell_type": "code",
   "execution_count": 30,
   "metadata": {
    "name": "compute_preds_and_evaluate_perf",
    "language": "python",
    "collapsed": false,
    "resultHeight": 83
   },
   "outputs": [
    {
     "name": "stdout",
     "output_type": "stream",
     "text": [
      "0.7592305053532418\n",
      "              precision    recall  f1-score   support\n",
      "\n",
      "           0       0.42      0.32      0.36     23724\n",
      "           1       0.83      0.88      0.85     87050\n",
      "\n",
      "    accuracy                           0.76    110774\n",
      "   macro avg       0.62      0.60      0.61    110774\n",
      "weighted avg       0.74      0.76      0.75    110774\n",
      "\n",
      "[[ 7484 16240]\n",
      " [10431 76619]]\n"
     ]
    }
   ],
   "source": "#compute predictions on test set\nrf_yhat = rf_pipe.predict(X_test)\n\n\n#Confusion matrix by percent of total\nprint(np.around(confusion_matrix(y_test,rf_yhat)/y_test.shape[0],4)*100)\n\n#F1 score\nprint(f\"F1 score - {f1_score(y_test,rf_yhat)}\")",
   "id": "ce110000-1111-2222-3333-ffffff000031"
  },
  {
   "cell_type": "markdown",
   "id": "7765971e-a4eb-4e4b-8320-f1aba638d6ae",
   "metadata": {
    "name": "model_registry",
    "collapsed": false,
    "resultHeight": 74
   },
   "source": "# MODEL REGISTRY"
  },
  {
   "cell_type": "code",
   "id": "581d6771-6807-4609-ae06-07441d0a897f",
   "metadata": {
    "language": "python",
    "name": "define_model_registry",
    "collapsed": false,
    "resultHeight": 0
   },
   "outputs": [],
   "source": "#Create a snowflake model registry object \nfrom snowflake.ml.registry import Registry\nfrom snowflake.ml._internal.utils import identifier\nfrom snowflake.ml.model import model_signature\n\ndb = identifier._get_unescaped_name(session.get_current_database())\nschema = identifier._get_unescaped_name(session.get_current_schema())\n\n\n# Define model name\nmodel_name = \"mortgage_lending_sklearn_pipeline\"\n\n# Create a registry to log the model to\nmodel_registry = Registry(session=session, database_name=db, schema_name=schema)",
   "execution_count": null
  },
  {
   "cell_type": "code",
   "id": "ade36c37-b439-48c8-9fc0-acde9ed7fb9a",
   "metadata": {
    "language": "python",
    "name": "full_pipeline_deploy",
    "collapsed": false,
    "resultHeight": 375
   },
   "outputs": [],
   "source": "#First we'll deploy the full pipeline to the model registry and use the raw X_test data as our sample input data\n\nversion_name = 'full_sklearn_pipeline'\n\ntry:\n    model_ver_pipeline = model_registry.get_model(model_name).version(version_name)\n    print(\"Found existing model version!\")\nexcept:\n    print(\"Logging new model version...\")\n    model_ver_pipeline = model_registry.log_model(\n        model_name=model_name,\n        model=rf_pipe, #full model pipeline\n        version_name=version_name,\n        sample_input_data=X_test, #raw test data\n        comment = \"full sklearn pipeline with preprocessing transformers\",\n    )",
   "execution_count": null
  },
  {
   "cell_type": "code",
   "id": "172d13a7-0512-4713-b563-9d80c5182715",
   "metadata": {
    "language": "python",
    "name": "show_functions",
    "resultHeight": 1967,
    "collapsed": false
   },
   "outputs": [],
   "source": "#List built in functions for the model we have deployed to the model regsitry\nmodel_ver_pipeline.show_functions()",
   "execution_count": null
  },
  {
   "cell_type": "code",
   "id": "a7e7067f-ecbd-4216-89d6-4a7bcb484bce",
   "metadata": {
    "language": "python",
    "name": "run_prediction_on_test_data",
    "resultHeight": 542,
    "collapsed": false
   },
   "outputs": [],
   "source": "#Now predict the test data using the model registry model\n## note that you can pass the pandas df directly to this function rather using session.create_dataframe to convert it to a snowpark df\nmodel_ver_pipeline.run(session.create_dataframe(X_test), function_name=\"predict\")",
   "execution_count": null
  },
  {
   "cell_type": "code",
   "id": "1105d9c5-1476-4e5c-98e6-067fb41ea003",
   "metadata": {
    "language": "python",
    "name": "get_pipeline_from_model_registry",
    "resultHeight": 427,
    "collapsed": false
   },
   "outputs": [],
   "source": "#Here we can choose to extract the pipeline back from the model registry model if we choose\nloaded_pipe = model_ver_pipeline.load()\nloaded_pipe",
   "execution_count": null
  },
  {
   "cell_type": "code",
   "id": "6e933372-5e63-447c-b29c-133cbd3d78c3",
   "metadata": {
    "language": "python",
    "name": "validate_pipeline_isolations",
    "collapsed": false,
    "resultHeight": 426
   },
   "outputs": [],
   "source": "#Here we'll do a quick validation that we can \n## 1. Extract the preprocessing transformers from the pipeline and transform the test data\n## 2. Extract the classifier from the pipeline and use it to directly predict the transformed test data \ntransformed_test_data = rf_pipe['preprocessing_steps'].transform(X_test)\nrf_pipe['rf_classifier'].predict(transformed_test_data[0:10])",
   "execution_count": null
  },
  {
   "cell_type": "code",
   "id": "b077e382-378b-47ac-ad40-9ccb3795a6b0",
   "metadata": {
    "language": "python",
    "name": "just_model_deploy",
    "collapsed": false,
    "resultHeight": 375
   },
   "outputs": [],
   "source": "#Now we'll deploy just the classifier extracted from pipeline to the model registry and use the transformed X_test data as our sample input data\nversion_name = 'just_model'\n\ntry:\n    model_ver_just_model = model_registry.get_model(model_name).version(version_name)\n    print(\"Found existing model version!\")\nexcept:\n    print(\"Logging new model version...\")\n    model_ver_just_model = model_registry.log_model(\n        model_name=model_name,\n        model = rf_pipe['rf_classifier'], # extract the classifier from the pipeline\n        version_name=version_name,\n        sample_input_data=rf_pipe['preprocessing_steps'].transform(X_test), # extract the preprocessing steps from the pipeline and transform the test data\n        comment = \"Extracted classifier from pipeline\"\n    )",
   "execution_count": null
  },
  {
   "cell_type": "code",
   "id": "b7cebe70-23e3-484f-94ef-3908e9cf666f",
   "metadata": {
    "language": "python",
    "name": "show_functions_2",
    "resultHeight": 2303,
    "collapsed": false
   },
   "outputs": [],
   "source": "#See that we have the same functions for the model registry whether it is deployed as the full pipeline or just the classifier model itself\nmodel_ver_just_model.show_functions()",
   "execution_count": null
  },
  {
   "cell_type": "code",
   "id": "caebb37c-a733-404e-918d-6a1932326c46",
   "metadata": {
    "language": "python",
    "name": "run_predictions_on_test_data2",
    "resultHeight": 438,
    "collapsed": false
   },
   "outputs": [],
   "source": "#Now predict the test data using the model registry model\nmodel_ver_just_model.run(transformed_test_data, function_name=\"PREDICT\")",
   "execution_count": null
  },
  {
   "cell_type": "code",
   "id": "8210ff83-7e87-4f0c-8b9c-bfd0f55ab407",
   "metadata": {
    "language": "python",
    "name": "get_model_from_registry",
    "collapsed": false,
    "resultHeight": 158
   },
   "outputs": [],
   "source": "#Here we can choose to extract the classifier back from the model registry model if we choose\n\nloaded_just_model = model_ver_just_model.load()\nloaded_just_model",
   "execution_count": null
  },
  {
   "cell_type": "markdown",
   "metadata": {
    "jp-MarkdownHeadingCollapsed": true,
    "tags": [],
    "name": "conclusion",
    "resultHeight": 201,
    "collapsed": false
   },
   "source": "## Conclusion\n\n### 🚀 Snowflake model registry gives users a secure and flexible framework to deploy a raw model, or a full model pipeline with pre/post-processing transformers 🚀\n#### 🔮 All model versions are logged in the model registry for inference, explainability, lineage tracking, visibility and more 🔮\n#### 🌐 The actual model (or pipeline) object can be extracted from the model registry as needed 🌐",
   "id": "ce110000-1111-2222-3333-ffffff000036"
  }
 ]
}